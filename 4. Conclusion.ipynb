{
 "cells": [
  {
   "cell_type": "markdown",
   "id": "3c5220cd",
   "metadata": {},
   "source": [
    "<img src=\"Logo.png\" width=\"100\" align=\"left\"/> \n",
    "\n",
    "# <center> Unit 3 Project </center>\n",
    "#  <center> Fourth section : Conclusion </center>\n",
    "\n",
    "\n",
    "In this notebook you will be comparing the results of the two methods we used on the created testset. That is said: you will compare the results to the clustering with the results of the classification on the same test test and provide insights and explanation about the observed behaviour."
   ]
  },
  {
   "cell_type": "markdown",
   "id": "d7999942",
   "metadata": {},
   "source": [
    "For this final task you will need to : \n",
    "1. Load the testset data that you created all along this project \n",
    "2. For each cluster provide percentages about each actual/ predicted class contained with this cluster. Eg : cluster N°2 : is made of ( 50% class 2 and 50% class 3 ) from actual labels and ( 40 % predicted class 2 and 40% predicted class 3 + 20% predicted class 1) \n",
    "The above is just an example and is far away from the actual situation.\n",
    "\n",
    "3. Explain the behaviour and provide isights about it "
   ]
  },
  {
   "cell_type": "markdown",
   "id": "5ce7ef74",
   "metadata": {},
   "source": [
    "## 1.  Load the data: "
   ]
  },
  {
   "cell_type": "code",
   "execution_count": 1,
   "id": "db5d912f",
   "metadata": {},
   "outputs": [],
   "source": [
    "import pandas as pd "
   ]
  },
  {
   "cell_type": "code",
   "execution_count": 2,
   "id": "20df3761",
   "metadata": {},
   "outputs": [],
   "source": [
    "# To-Do : load the test summary data \n",
    "df = pd.read_csv('test_summary.csv')"
   ]
  },
  {
   "cell_type": "code",
   "execution_count": 3,
   "id": "d4c27a63",
   "metadata": {},
   "outputs": [
    {
     "data": {
      "text/html": [
       "<div>\n",
       "<style scoped>\n",
       "    .dataframe tbody tr th:only-of-type {\n",
       "        vertical-align: middle;\n",
       "    }\n",
       "\n",
       "    .dataframe tbody tr th {\n",
       "        vertical-align: top;\n",
       "    }\n",
       "\n",
       "    .dataframe thead th {\n",
       "        text-align: right;\n",
       "    }\n",
       "</style>\n",
       "<table border=\"1\" class=\"dataframe\">\n",
       "  <thead>\n",
       "    <tr style=\"text-align: right;\">\n",
       "      <th></th>\n",
       "      <th>ALB</th>\n",
       "      <th>ALP</th>\n",
       "      <th>ALT</th>\n",
       "      <th>AST</th>\n",
       "      <th>Age</th>\n",
       "      <th>BIL</th>\n",
       "      <th>CHE</th>\n",
       "      <th>CHOL</th>\n",
       "      <th>CREA</th>\n",
       "      <th>Category</th>\n",
       "      <th>GGT</th>\n",
       "      <th>PROT</th>\n",
       "      <th>Sex</th>\n",
       "      <th>cluster</th>\n",
       "      <th>ID</th>\n",
       "      <th>Predicted_class</th>\n",
       "    </tr>\n",
       "  </thead>\n",
       "  <tbody>\n",
       "    <tr>\n",
       "      <th>0</th>\n",
       "      <td>47.8</td>\n",
       "      <td>89.0</td>\n",
       "      <td>48.5</td>\n",
       "      <td>38.4</td>\n",
       "      <td>36</td>\n",
       "      <td>8.6</td>\n",
       "      <td>8.26</td>\n",
       "      <td>5.62</td>\n",
       "      <td>96.0</td>\n",
       "      <td>1</td>\n",
       "      <td>21.9</td>\n",
       "      <td>76.2</td>\n",
       "      <td>0</td>\n",
       "      <td>3</td>\n",
       "      <td>50</td>\n",
       "      <td>1</td>\n",
       "    </tr>\n",
       "    <tr>\n",
       "      <th>1</th>\n",
       "      <td>45.1</td>\n",
       "      <td>79.1</td>\n",
       "      <td>39.0</td>\n",
       "      <td>30.5</td>\n",
       "      <td>56</td>\n",
       "      <td>5.2</td>\n",
       "      <td>6.47</td>\n",
       "      <td>5.10</td>\n",
       "      <td>64.0</td>\n",
       "      <td>1</td>\n",
       "      <td>145.3</td>\n",
       "      <td>66.7</td>\n",
       "      <td>1</td>\n",
       "      <td>4</td>\n",
       "      <td>497</td>\n",
       "      <td>1</td>\n",
       "    </tr>\n",
       "    <tr>\n",
       "      <th>2</th>\n",
       "      <td>45.9</td>\n",
       "      <td>66.7</td>\n",
       "      <td>31.8</td>\n",
       "      <td>28.1</td>\n",
       "      <td>51</td>\n",
       "      <td>9.0</td>\n",
       "      <td>10.08</td>\n",
       "      <td>5.61</td>\n",
       "      <td>85.0</td>\n",
       "      <td>1</td>\n",
       "      <td>36.2</td>\n",
       "      <td>73.0</td>\n",
       "      <td>0</td>\n",
       "      <td>3</td>\n",
       "      <td>212</td>\n",
       "      <td>1</td>\n",
       "    </tr>\n",
       "    <tr>\n",
       "      <th>3</th>\n",
       "      <td>44.7</td>\n",
       "      <td>71.6</td>\n",
       "      <td>22.9</td>\n",
       "      <td>22.1</td>\n",
       "      <td>55</td>\n",
       "      <td>5.5</td>\n",
       "      <td>6.82</td>\n",
       "      <td>4.61</td>\n",
       "      <td>105.0</td>\n",
       "      <td>1</td>\n",
       "      <td>59.2</td>\n",
       "      <td>72.7</td>\n",
       "      <td>0</td>\n",
       "      <td>4</td>\n",
       "      <td>250</td>\n",
       "      <td>1</td>\n",
       "    </tr>\n",
       "    <tr>\n",
       "      <th>4</th>\n",
       "      <td>43.2</td>\n",
       "      <td>68.2</td>\n",
       "      <td>27.8</td>\n",
       "      <td>42.3</td>\n",
       "      <td>45</td>\n",
       "      <td>6.6</td>\n",
       "      <td>10.93</td>\n",
       "      <td>6.61</td>\n",
       "      <td>105.0</td>\n",
       "      <td>1</td>\n",
       "      <td>27.2</td>\n",
       "      <td>74.5</td>\n",
       "      <td>0</td>\n",
       "      <td>3</td>\n",
       "      <td>143</td>\n",
       "      <td>1</td>\n",
       "    </tr>\n",
       "  </tbody>\n",
       "</table>\n",
       "</div>"
      ],
      "text/plain": [
       "    ALB   ALP   ALT   AST  Age  BIL    CHE  CHOL   CREA  Category    GGT  \\\n",
       "0  47.8  89.0  48.5  38.4   36  8.6   8.26  5.62   96.0         1   21.9   \n",
       "1  45.1  79.1  39.0  30.5   56  5.2   6.47  5.10   64.0         1  145.3   \n",
       "2  45.9  66.7  31.8  28.1   51  9.0  10.08  5.61   85.0         1   36.2   \n",
       "3  44.7  71.6  22.9  22.1   55  5.5   6.82  4.61  105.0         1   59.2   \n",
       "4  43.2  68.2  27.8  42.3   45  6.6  10.93  6.61  105.0         1   27.2   \n",
       "\n",
       "   PROT  Sex  cluster   ID  Predicted_class  \n",
       "0  76.2    0        3   50                1  \n",
       "1  66.7    1        4  497                1  \n",
       "2  73.0    0        3  212                1  \n",
       "3  72.7    0        4  250                1  \n",
       "4  74.5    0        3  143                1  "
      ]
     },
     "execution_count": 3,
     "metadata": {},
     "output_type": "execute_result"
    }
   ],
   "source": [
    "df.head()"
   ]
  },
  {
   "cell_type": "markdown",
   "id": "5a876830",
   "metadata": {},
   "source": [
    "## 2. Analysis: "
   ]
  },
  {
   "cell_type": "code",
   "execution_count": 109,
   "id": "99732f39",
   "metadata": {},
   "outputs": [],
   "source": [
    "# To-Do create a summary about each cluster : \n",
    "# percentages of each target (actual Category) within each cluster \n",
    "# + Percentages of each predicted class within the cluster \n",
    "# results should be something like : \n",
    "# For clusterk : {'true_class0_percetage': 0.0,\n",
    "#                 'true_class1_percetage': 0.0,\n",
    "#                  'true_class2_percetage': 0.0,\n",
    "#                   'true_class3_percetage': 0.0,\n",
    "#                   'true_class4_percetage': 0.0,\n",
    "#                   'predicted_class0_percetage': 0.0,\n",
    "#                   'predicted_class1_percetage': 0.0,\n",
    "#                   'predicted_class2_percetage': 0.0,\n",
    "#                   'predicted_class3_percetage': 0.0,\n",
    "#                    'predicted_class4_percetage': 0.0}"
   ]
  },
  {
   "cell_type": "markdown",
   "id": "65b6139d",
   "metadata": {},
   "source": [
    "## 3. Explanations and isights :"
   ]
  },
  {
   "cell_type": "code",
   "execution_count": 1,
   "id": "cecd4211",
   "metadata": {},
   "outputs": [],
   "source": [
    "# in this section you should display analysis about each cluster and comment those one by one "
   ]
  },
  {
   "cell_type": "markdown",
   "id": "c248cbad",
   "metadata": {},
   "source": [
    "## 4. Conclusion:\n",
    "\n",
    "Explain your findings and provide reasons for the behaviour."
   ]
  },
  {
   "cell_type": "code",
   "execution_count": null,
   "id": "d19df8e9",
   "metadata": {},
   "outputs": [],
   "source": []
  }
 ],
 "metadata": {
  "kernelspec": {
   "display_name": "Python 3 (ipykernel)",
   "language": "python",
   "name": "python3"
  },
  "language_info": {
   "codemirror_mode": {
    "name": "ipython",
    "version": 3
   },
   "file_extension": ".py",
   "mimetype": "text/x-python",
   "name": "python",
   "nbconvert_exporter": "python",
   "pygments_lexer": "ipython3",
   "version": "3.9.7"
  }
 },
 "nbformat": 4,
 "nbformat_minor": 5
}
