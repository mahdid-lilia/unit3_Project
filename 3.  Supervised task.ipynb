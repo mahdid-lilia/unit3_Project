{
 "cells": [
  {
   "cell_type": "markdown",
   "id": "bc183445",
   "metadata": {},
   "source": [
    "<img src=\"Logo.png\" width=\"100\" align=\"left\"/> \n",
    "\n",
    "# <center> Unit 3 Project </center>\n",
    "#  <center> Third section : supervised task </center>\n",
    "\n",
    "In this notebook you will be building and training a supervised learning model to classify your data."
   ]
  },
  {
   "cell_type": "markdown",
   "id": "be234200",
   "metadata": {},
   "source": [
    "For this task we will be using another classification model \"The random forests\" model.\n",
    "\n",
    "Steps for this task: \n",
    "1. Load the already clustered dataset \n",
    "2. Take into consideration that in this task we will not be using the already added column \"Cluster\" \n",
    "3. Split your data.\n",
    "3. Build your model using the SKlearn RandomForestClassifier class \n",
    "4. classify your data and test the performance of your model \n",
    "5. Evaluate the model ( accepted models should have at least an accuracy of 86%). Play with hyper parameters and provide a report about that.\n",
    "6. Provide evidence on the quality of your model (not overfitted good metrics)\n",
    "7. Create a new test dataset that contains the testset + an additional column called \"predicted_class\" stating the class predicted by your random forest classifier for each data point of the test set."
   ]
  },
  {
   "cell_type": "markdown",
   "id": "eca14fca",
   "metadata": {},
   "source": [
    "## 1. Load the data and split the data:"
   ]
  },
  {
   "cell_type": "code",
   "execution_count": 28,
   "id": "34235ce2",
   "metadata": {},
   "outputs": [],
   "source": [
    "from sklearn.ensemble import RandomForestClassifier\n",
    "import pandas as pd \n",
    "from sklearn.model_selection import train_test_split"
   ]
  },
  {
   "cell_type": "code",
   "execution_count": 29,
   "id": "89b318b7",
   "metadata": {
    "scrolled": false
   },
   "outputs": [
    {
     "data": {
      "text/html": [
       "<div>\n",
       "<style scoped>\n",
       "    .dataframe tbody tr th:only-of-type {\n",
       "        vertical-align: middle;\n",
       "    }\n",
       "\n",
       "    .dataframe tbody tr th {\n",
       "        vertical-align: top;\n",
       "    }\n",
       "\n",
       "    .dataframe thead th {\n",
       "        text-align: right;\n",
       "    }\n",
       "</style>\n",
       "<table border=\"1\" class=\"dataframe\">\n",
       "  <thead>\n",
       "    <tr style=\"text-align: right;\">\n",
       "      <th></th>\n",
       "      <th>ID</th>\n",
       "      <th>Category</th>\n",
       "      <th>Age</th>\n",
       "      <th>Sex</th>\n",
       "      <th>ALB</th>\n",
       "      <th>ALP</th>\n",
       "      <th>ALT</th>\n",
       "      <th>AST</th>\n",
       "      <th>BIL</th>\n",
       "      <th>CHE</th>\n",
       "      <th>CHOL</th>\n",
       "      <th>CREA</th>\n",
       "      <th>GGT</th>\n",
       "      <th>PROT</th>\n",
       "      <th>cluster</th>\n",
       "    </tr>\n",
       "  </thead>\n",
       "  <tbody>\n",
       "    <tr>\n",
       "      <th>0</th>\n",
       "      <td>1</td>\n",
       "      <td>1</td>\n",
       "      <td>32</td>\n",
       "      <td>0</td>\n",
       "      <td>38.5</td>\n",
       "      <td>52.5</td>\n",
       "      <td>7.7</td>\n",
       "      <td>22.1</td>\n",
       "      <td>7.5</td>\n",
       "      <td>6.93</td>\n",
       "      <td>3.23</td>\n",
       "      <td>106.0</td>\n",
       "      <td>12.1</td>\n",
       "      <td>69.0</td>\n",
       "      <td>3</td>\n",
       "    </tr>\n",
       "    <tr>\n",
       "      <th>1</th>\n",
       "      <td>2</td>\n",
       "      <td>1</td>\n",
       "      <td>32</td>\n",
       "      <td>0</td>\n",
       "      <td>38.5</td>\n",
       "      <td>70.3</td>\n",
       "      <td>18.0</td>\n",
       "      <td>24.7</td>\n",
       "      <td>3.9</td>\n",
       "      <td>11.17</td>\n",
       "      <td>4.80</td>\n",
       "      <td>74.0</td>\n",
       "      <td>15.6</td>\n",
       "      <td>76.5</td>\n",
       "      <td>3</td>\n",
       "    </tr>\n",
       "    <tr>\n",
       "      <th>2</th>\n",
       "      <td>3</td>\n",
       "      <td>1</td>\n",
       "      <td>32</td>\n",
       "      <td>0</td>\n",
       "      <td>46.9</td>\n",
       "      <td>74.7</td>\n",
       "      <td>36.2</td>\n",
       "      <td>52.6</td>\n",
       "      <td>6.1</td>\n",
       "      <td>8.84</td>\n",
       "      <td>5.20</td>\n",
       "      <td>86.0</td>\n",
       "      <td>33.2</td>\n",
       "      <td>79.3</td>\n",
       "      <td>3</td>\n",
       "    </tr>\n",
       "    <tr>\n",
       "      <th>3</th>\n",
       "      <td>4</td>\n",
       "      <td>1</td>\n",
       "      <td>32</td>\n",
       "      <td>0</td>\n",
       "      <td>43.2</td>\n",
       "      <td>52.0</td>\n",
       "      <td>30.6</td>\n",
       "      <td>22.6</td>\n",
       "      <td>18.9</td>\n",
       "      <td>7.33</td>\n",
       "      <td>4.74</td>\n",
       "      <td>80.0</td>\n",
       "      <td>33.8</td>\n",
       "      <td>75.7</td>\n",
       "      <td>3</td>\n",
       "    </tr>\n",
       "    <tr>\n",
       "      <th>4</th>\n",
       "      <td>5</td>\n",
       "      <td>1</td>\n",
       "      <td>32</td>\n",
       "      <td>0</td>\n",
       "      <td>39.2</td>\n",
       "      <td>74.1</td>\n",
       "      <td>32.6</td>\n",
       "      <td>24.8</td>\n",
       "      <td>9.6</td>\n",
       "      <td>9.15</td>\n",
       "      <td>4.32</td>\n",
       "      <td>76.0</td>\n",
       "      <td>29.9</td>\n",
       "      <td>68.7</td>\n",
       "      <td>3</td>\n",
       "    </tr>\n",
       "  </tbody>\n",
       "</table>\n",
       "</div>"
      ],
      "text/plain": [
       "   ID  Category  Age  Sex   ALB   ALP   ALT   AST   BIL    CHE  CHOL   CREA  \\\n",
       "0   1         1   32    0  38.5  52.5   7.7  22.1   7.5   6.93  3.23  106.0   \n",
       "1   2         1   32    0  38.5  70.3  18.0  24.7   3.9  11.17  4.80   74.0   \n",
       "2   3         1   32    0  46.9  74.7  36.2  52.6   6.1   8.84  5.20   86.0   \n",
       "3   4         1   32    0  43.2  52.0  30.6  22.6  18.9   7.33  4.74   80.0   \n",
       "4   5         1   32    0  39.2  74.1  32.6  24.8   9.6   9.15  4.32   76.0   \n",
       "\n",
       "    GGT  PROT  cluster  \n",
       "0  12.1  69.0        3  \n",
       "1  15.6  76.5        3  \n",
       "2  33.2  79.3        3  \n",
       "3  33.8  75.7        3  \n",
       "4  29.9  68.7        3  "
      ]
     },
     "execution_count": 29,
     "metadata": {},
     "output_type": "execute_result"
    }
   ],
   "source": [
    "# To-Do:  load the data \n",
    "df = pd.read_csv(\"Saved/UnsupervisedData.csv\")\n",
    "df.head()"
   ]
  },
  {
   "cell_type": "code",
   "execution_count": 30,
   "id": "9d2bdcc6",
   "metadata": {},
   "outputs": [],
   "source": [
    "# To-Do : keep only the columns to be used : all features except ID, cluster \n",
    "X=df[df.columns.difference(['ID', 'cluster'])]\n",
    "X\n",
    "# The target here is the Category column \n",
    "Y = df[\"Category\"]\n",
    "\n",
    "# Do not forget to split your data (this is a classification task)\n",
    "# test set size should be 20% of the data \n",
    "X_train, X_test, Y_train, Y_test = train_test_split(X, Y, test_size= 0.2, random_state=0)\n"
   ]
  },
  {
   "cell_type": "markdown",
   "id": "523519ae",
   "metadata": {},
   "source": [
    "## 2. Building the model and training and evaluate the performance: "
   ]
  },
  {
   "cell_type": "code",
   "execution_count": 31,
   "id": "2ea837ce",
   "metadata": {},
   "outputs": [
    {
     "name": "stdout",
     "output_type": "stream",
     "text": [
      "{'bootstrap': True, 'ccp_alpha': 0.0, 'class_weight': None, 'criterion': 'entropy', 'max_depth': None, 'max_features': 'auto', 'max_leaf_nodes': None, 'max_samples': None, 'min_impurity_decrease': 0.0, 'min_impurity_split': None, 'min_samples_leaf': 1, 'min_samples_split': 2, 'min_weight_fraction_leaf': 0.0, 'n_estimators': 100, 'n_jobs': None, 'oob_score': False, 'random_state': 0, 'verbose': 0, 'warm_start': False}\n"
     ]
    },
    {
     "data": {
      "text/plain": [
       "GridSearchCV(cv=5,\n",
       "             estimator=RandomForestClassifier(criterion='entropy',\n",
       "                                              random_state=0),\n",
       "             param_grid={'bootstrap': [True, False],\n",
       "                         'max_depth': [2, 8, 20, 40],\n",
       "                         'max_features': ['auto', 'log2', 'sqrt']})"
      ]
     },
     "execution_count": 31,
     "metadata": {},
     "output_type": "execute_result"
    }
   ],
   "source": [
    "# To-do build the model and train it\n",
    "# note that you will be providing explanation about the hyper parameter tuning \n",
    "# So you will be iterating a number of times before getting the desired performance\n",
    "\n",
    "#Create my model \n",
    "clf = RandomForestClassifier(n_estimators = 100, criterion ='entropy', random_state = 0)\n",
    "print(clf.get_params())\n",
    "bootstrap= [True, False]\n",
    "max_features= ['auto','log2', 'sqrt' ]\n",
    "max_depth=[2, 8, 20, 40]\n",
    "tuned_parameters= {'bootstrap': bootstrap, 'max_features':max_features, 'max_depth':max_depth}\n",
    "\n",
    "from sklearn.model_selection import GridSearchCV \n",
    "grid= GridSearchCV(estimator=clf,param_grid= tuned_parameters, cv=5)\n",
    "grid.fit(X_train, Y_train)\n"
   ]
  },
  {
   "cell_type": "code",
   "execution_count": 32,
   "id": "89b1527a",
   "metadata": {},
   "outputs": [
    {
     "data": {
      "text/plain": [
       "{'bootstrap': False, 'max_depth': 20, 'max_features': 'auto'}"
      ]
     },
     "execution_count": 32,
     "metadata": {},
     "output_type": "execute_result"
    }
   ],
   "source": [
    "grid.best_params_"
   ]
  },
  {
   "cell_type": "code",
   "execution_count": 33,
   "id": "63e69fef",
   "metadata": {},
   "outputs": [
    {
     "data": {
      "text/plain": [
       "0.9877963306534735"
      ]
     },
     "execution_count": 33,
     "metadata": {},
     "output_type": "execute_result"
    }
   ],
   "source": [
    "grid.best_score_"
   ]
  },
  {
   "cell_type": "markdown",
   "id": "73c0e0cf",
   "metadata": {},
   "source": [
    "The best parameters are 'bootstrap': False, 'max_depth': 20, 'max_features': 'auto' with score= 0.987"
   ]
  },
  {
   "cell_type": "code",
   "execution_count": 43,
   "id": "62097d19",
   "metadata": {},
   "outputs": [],
   "source": [
    "y_hat = grid.predict(X_test)"
   ]
  },
  {
   "cell_type": "code",
   "execution_count": null,
   "id": "7b73330d",
   "metadata": {},
   "outputs": [],
   "source": []
  },
  {
   "cell_type": "code",
   "execution_count": 59,
   "id": "37b8934a",
   "metadata": {},
   "outputs": [
    {
     "name": "stdout",
     "output_type": "stream",
     "text": [
      " model accuracy: 98.3739837398374 %\n",
      " model precision: 98.3739837398374 %\n"
     ]
    }
   ],
   "source": [
    "# To-do : evaluate the model in terms of accuracy and precision \n",
    "# Provide evidence that your model is not overfitting \n",
    "from sklearn.metrics import precision_score, accuracy_score\n",
    "\n",
    "print(' model accuracy:', accuracy_score(Y_test, y_hat)*100,\"%\")\n",
    "print(' model precision:', precision_score(Y_test, y_hat, average='micro')*100,\"%\")\n"
   ]
  },
  {
   "cell_type": "code",
   "execution_count": 60,
   "id": "92d8cbf9",
   "metadata": {},
   "outputs": [
    {
     "data": {
      "text/plain": [
       "0.8905069124423963"
      ]
     },
     "execution_count": 60,
     "metadata": {},
     "output_type": "execute_result"
    }
   ],
   "source": [
    "from sklearn.metrics import f1_score, recall_score\n",
    "f1_score(Y_test, y_hat, average='macro')\n"
   ]
  },
  {
   "cell_type": "code",
   "execution_count": 61,
   "id": "f7919c59",
   "metadata": {},
   "outputs": [
    {
     "data": {
      "text/plain": [
       "0.85"
      ]
     },
     "execution_count": 61,
     "metadata": {},
     "output_type": "execute_result"
    }
   ],
   "source": [
    "recall_score(Y_test, y_hat, average='macro')\n"
   ]
  },
  {
   "cell_type": "code",
   "execution_count": null,
   "id": "5378346a",
   "metadata": {},
   "outputs": [],
   "source": []
  },
  {
   "cell_type": "markdown",
   "id": "55598bf2",
   "metadata": {},
   "source": [
    "> Hint : A Perfect accuracy on the train set suggest that we have an overfitted model So the student should be able to provide a detailed table about the hyper parameters / parameters tuning with a good conclusion stating that the model has at least an accuracy of 86% on the test set without signs of overfitting  "
   ]
  },
  {
   "cell_type": "markdown",
   "id": "d9b9a41c",
   "metadata": {},
   "source": [
    "## 3. Create the summary test set with the additional predicted class column: \n",
    "In this part you need to add the predicted class as a column to your test dataframe and save this one "
   ]
  },
  {
   "cell_type": "code",
   "execution_count": 71,
   "id": "428a1032",
   "metadata": {},
   "outputs": [],
   "source": [
    "# To-Do : create the complete test dataframe : it should contain all the feature column + the actual target and the ID as well\n",
    "# We first create a copy for our dataframe\n",
    "test_df = X_test.copy()\n",
    "test_df['cluster'] = df['cluster'].copy()\n",
    "# then add the actual target and the ID as well  \n",
    "test_df['Category'] = df['Category']\n",
    "test_df['ID'] = df['ID']\n"
   ]
  },
  {
   "cell_type": "code",
   "execution_count": 72,
   "id": "8292941c",
   "metadata": {},
   "outputs": [
    {
     "data": {
      "text/html": [
       "<div>\n",
       "<style scoped>\n",
       "    .dataframe tbody tr th:only-of-type {\n",
       "        vertical-align: middle;\n",
       "    }\n",
       "\n",
       "    .dataframe tbody tr th {\n",
       "        vertical-align: top;\n",
       "    }\n",
       "\n",
       "    .dataframe thead th {\n",
       "        text-align: right;\n",
       "    }\n",
       "</style>\n",
       "<table border=\"1\" class=\"dataframe\">\n",
       "  <thead>\n",
       "    <tr style=\"text-align: right;\">\n",
       "      <th></th>\n",
       "      <th>ALB</th>\n",
       "      <th>ALP</th>\n",
       "      <th>ALT</th>\n",
       "      <th>AST</th>\n",
       "      <th>Age</th>\n",
       "      <th>BIL</th>\n",
       "      <th>CHE</th>\n",
       "      <th>CHOL</th>\n",
       "      <th>CREA</th>\n",
       "      <th>Category</th>\n",
       "      <th>GGT</th>\n",
       "      <th>PROT</th>\n",
       "      <th>Sex</th>\n",
       "      <th>cluster</th>\n",
       "      <th>ID</th>\n",
       "    </tr>\n",
       "  </thead>\n",
       "  <tbody>\n",
       "    <tr>\n",
       "      <th>49</th>\n",
       "      <td>47.8</td>\n",
       "      <td>89.0</td>\n",
       "      <td>48.5</td>\n",
       "      <td>38.4</td>\n",
       "      <td>36</td>\n",
       "      <td>8.6</td>\n",
       "      <td>8.26</td>\n",
       "      <td>5.62</td>\n",
       "      <td>96.0</td>\n",
       "      <td>1</td>\n",
       "      <td>21.9</td>\n",
       "      <td>76.2</td>\n",
       "      <td>0</td>\n",
       "      <td>3</td>\n",
       "      <td>50</td>\n",
       "    </tr>\n",
       "    <tr>\n",
       "      <th>496</th>\n",
       "      <td>45.1</td>\n",
       "      <td>79.1</td>\n",
       "      <td>39.0</td>\n",
       "      <td>30.5</td>\n",
       "      <td>56</td>\n",
       "      <td>5.2</td>\n",
       "      <td>6.47</td>\n",
       "      <td>5.10</td>\n",
       "      <td>64.0</td>\n",
       "      <td>1</td>\n",
       "      <td>145.3</td>\n",
       "      <td>66.7</td>\n",
       "      <td>1</td>\n",
       "      <td>4</td>\n",
       "      <td>497</td>\n",
       "    </tr>\n",
       "    <tr>\n",
       "      <th>211</th>\n",
       "      <td>45.9</td>\n",
       "      <td>66.7</td>\n",
       "      <td>31.8</td>\n",
       "      <td>28.1</td>\n",
       "      <td>51</td>\n",
       "      <td>9.0</td>\n",
       "      <td>10.08</td>\n",
       "      <td>5.61</td>\n",
       "      <td>85.0</td>\n",
       "      <td>1</td>\n",
       "      <td>36.2</td>\n",
       "      <td>73.0</td>\n",
       "      <td>0</td>\n",
       "      <td>3</td>\n",
       "      <td>212</td>\n",
       "    </tr>\n",
       "    <tr>\n",
       "      <th>249</th>\n",
       "      <td>44.7</td>\n",
       "      <td>71.6</td>\n",
       "      <td>22.9</td>\n",
       "      <td>22.1</td>\n",
       "      <td>55</td>\n",
       "      <td>5.5</td>\n",
       "      <td>6.82</td>\n",
       "      <td>4.61</td>\n",
       "      <td>105.0</td>\n",
       "      <td>1</td>\n",
       "      <td>59.2</td>\n",
       "      <td>72.7</td>\n",
       "      <td>0</td>\n",
       "      <td>4</td>\n",
       "      <td>250</td>\n",
       "    </tr>\n",
       "    <tr>\n",
       "      <th>142</th>\n",
       "      <td>43.2</td>\n",
       "      <td>68.2</td>\n",
       "      <td>27.8</td>\n",
       "      <td>42.3</td>\n",
       "      <td>45</td>\n",
       "      <td>6.6</td>\n",
       "      <td>10.93</td>\n",
       "      <td>6.61</td>\n",
       "      <td>105.0</td>\n",
       "      <td>1</td>\n",
       "      <td>27.2</td>\n",
       "      <td>74.5</td>\n",
       "      <td>0</td>\n",
       "      <td>3</td>\n",
       "      <td>143</td>\n",
       "    </tr>\n",
       "  </tbody>\n",
       "</table>\n",
       "</div>"
      ],
      "text/plain": [
       "      ALB   ALP   ALT   AST  Age  BIL    CHE  CHOL   CREA  Category    GGT  \\\n",
       "49   47.8  89.0  48.5  38.4   36  8.6   8.26  5.62   96.0         1   21.9   \n",
       "496  45.1  79.1  39.0  30.5   56  5.2   6.47  5.10   64.0         1  145.3   \n",
       "211  45.9  66.7  31.8  28.1   51  9.0  10.08  5.61   85.0         1   36.2   \n",
       "249  44.7  71.6  22.9  22.1   55  5.5   6.82  4.61  105.0         1   59.2   \n",
       "142  43.2  68.2  27.8  42.3   45  6.6  10.93  6.61  105.0         1   27.2   \n",
       "\n",
       "     PROT  Sex  cluster   ID  \n",
       "49   76.2    0        3   50  \n",
       "496  66.7    1        4  497  \n",
       "211  73.0    0        3  212  \n",
       "249  72.7    0        4  250  \n",
       "142  74.5    0        3  143  "
      ]
     },
     "execution_count": 72,
     "metadata": {},
     "output_type": "execute_result"
    }
   ],
   "source": [
    "test_df.head()"
   ]
  },
  {
   "cell_type": "code",
   "execution_count": 73,
   "id": "3d90512a",
   "metadata": {},
   "outputs": [],
   "source": [
    "# To-Do : Add the predicted_class column \n",
    "test_df[\"Predicted_class\"] = y_hat"
   ]
  },
  {
   "cell_type": "code",
   "execution_count": 74,
   "id": "1d81bd95",
   "metadata": {},
   "outputs": [
    {
     "data": {
      "text/html": [
       "<div>\n",
       "<style scoped>\n",
       "    .dataframe tbody tr th:only-of-type {\n",
       "        vertical-align: middle;\n",
       "    }\n",
       "\n",
       "    .dataframe tbody tr th {\n",
       "        vertical-align: top;\n",
       "    }\n",
       "\n",
       "    .dataframe thead th {\n",
       "        text-align: right;\n",
       "    }\n",
       "</style>\n",
       "<table border=\"1\" class=\"dataframe\">\n",
       "  <thead>\n",
       "    <tr style=\"text-align: right;\">\n",
       "      <th></th>\n",
       "      <th>ALB</th>\n",
       "      <th>ALP</th>\n",
       "      <th>ALT</th>\n",
       "      <th>AST</th>\n",
       "      <th>Age</th>\n",
       "      <th>BIL</th>\n",
       "      <th>CHE</th>\n",
       "      <th>CHOL</th>\n",
       "      <th>CREA</th>\n",
       "      <th>Category</th>\n",
       "      <th>GGT</th>\n",
       "      <th>PROT</th>\n",
       "      <th>Sex</th>\n",
       "      <th>cluster</th>\n",
       "      <th>ID</th>\n",
       "      <th>Predicted_class</th>\n",
       "    </tr>\n",
       "  </thead>\n",
       "  <tbody>\n",
       "    <tr>\n",
       "      <th>49</th>\n",
       "      <td>47.8</td>\n",
       "      <td>89.0</td>\n",
       "      <td>48.5</td>\n",
       "      <td>38.4</td>\n",
       "      <td>36</td>\n",
       "      <td>8.6</td>\n",
       "      <td>8.26</td>\n",
       "      <td>5.62</td>\n",
       "      <td>96.0</td>\n",
       "      <td>1</td>\n",
       "      <td>21.9</td>\n",
       "      <td>76.2</td>\n",
       "      <td>0</td>\n",
       "      <td>3</td>\n",
       "      <td>50</td>\n",
       "      <td>1</td>\n",
       "    </tr>\n",
       "    <tr>\n",
       "      <th>496</th>\n",
       "      <td>45.1</td>\n",
       "      <td>79.1</td>\n",
       "      <td>39.0</td>\n",
       "      <td>30.5</td>\n",
       "      <td>56</td>\n",
       "      <td>5.2</td>\n",
       "      <td>6.47</td>\n",
       "      <td>5.10</td>\n",
       "      <td>64.0</td>\n",
       "      <td>1</td>\n",
       "      <td>145.3</td>\n",
       "      <td>66.7</td>\n",
       "      <td>1</td>\n",
       "      <td>4</td>\n",
       "      <td>497</td>\n",
       "      <td>1</td>\n",
       "    </tr>\n",
       "    <tr>\n",
       "      <th>211</th>\n",
       "      <td>45.9</td>\n",
       "      <td>66.7</td>\n",
       "      <td>31.8</td>\n",
       "      <td>28.1</td>\n",
       "      <td>51</td>\n",
       "      <td>9.0</td>\n",
       "      <td>10.08</td>\n",
       "      <td>5.61</td>\n",
       "      <td>85.0</td>\n",
       "      <td>1</td>\n",
       "      <td>36.2</td>\n",
       "      <td>73.0</td>\n",
       "      <td>0</td>\n",
       "      <td>3</td>\n",
       "      <td>212</td>\n",
       "      <td>1</td>\n",
       "    </tr>\n",
       "    <tr>\n",
       "      <th>249</th>\n",
       "      <td>44.7</td>\n",
       "      <td>71.6</td>\n",
       "      <td>22.9</td>\n",
       "      <td>22.1</td>\n",
       "      <td>55</td>\n",
       "      <td>5.5</td>\n",
       "      <td>6.82</td>\n",
       "      <td>4.61</td>\n",
       "      <td>105.0</td>\n",
       "      <td>1</td>\n",
       "      <td>59.2</td>\n",
       "      <td>72.7</td>\n",
       "      <td>0</td>\n",
       "      <td>4</td>\n",
       "      <td>250</td>\n",
       "      <td>1</td>\n",
       "    </tr>\n",
       "    <tr>\n",
       "      <th>142</th>\n",
       "      <td>43.2</td>\n",
       "      <td>68.2</td>\n",
       "      <td>27.8</td>\n",
       "      <td>42.3</td>\n",
       "      <td>45</td>\n",
       "      <td>6.6</td>\n",
       "      <td>10.93</td>\n",
       "      <td>6.61</td>\n",
       "      <td>105.0</td>\n",
       "      <td>1</td>\n",
       "      <td>27.2</td>\n",
       "      <td>74.5</td>\n",
       "      <td>0</td>\n",
       "      <td>3</td>\n",
       "      <td>143</td>\n",
       "      <td>1</td>\n",
       "    </tr>\n",
       "  </tbody>\n",
       "</table>\n",
       "</div>"
      ],
      "text/plain": [
       "      ALB   ALP   ALT   AST  Age  BIL    CHE  CHOL   CREA  Category    GGT  \\\n",
       "49   47.8  89.0  48.5  38.4   36  8.6   8.26  5.62   96.0         1   21.9   \n",
       "496  45.1  79.1  39.0  30.5   56  5.2   6.47  5.10   64.0         1  145.3   \n",
       "211  45.9  66.7  31.8  28.1   51  9.0  10.08  5.61   85.0         1   36.2   \n",
       "249  44.7  71.6  22.9  22.1   55  5.5   6.82  4.61  105.0         1   59.2   \n",
       "142  43.2  68.2  27.8  42.3   45  6.6  10.93  6.61  105.0         1   27.2   \n",
       "\n",
       "     PROT  Sex  cluster   ID  Predicted_class  \n",
       "49   76.2    0        3   50                1  \n",
       "496  66.7    1        4  497                1  \n",
       "211  73.0    0        3  212                1  \n",
       "249  72.7    0        4  250                1  \n",
       "142  74.5    0        3  143                1  "
      ]
     },
     "execution_count": 74,
     "metadata": {},
     "output_type": "execute_result"
    }
   ],
   "source": [
    "test_df.head()"
   ]
  },
  {
   "cell_type": "markdown",
   "id": "485bf1ca",
   "metadata": {},
   "source": [
    "> Make sure you have 16 column in this test set  "
   ]
  },
  {
   "cell_type": "code",
   "execution_count": 76,
   "id": "a0f354df",
   "metadata": {},
   "outputs": [],
   "source": [
    "# Save the test set \n",
    "test_df.to_csv(\"test_summary.csv\", index=False)"
   ]
  },
  {
   "cell_type": "code",
   "execution_count": null,
   "id": "21bfe043",
   "metadata": {},
   "outputs": [],
   "source": []
  },
  {
   "cell_type": "code",
   "execution_count": null,
   "id": "b7e3a077",
   "metadata": {},
   "outputs": [],
   "source": []
  }
 ],
 "metadata": {
  "kernelspec": {
   "display_name": "Python 3 (ipykernel)",
   "language": "python",
   "name": "python3"
  },
  "language_info": {
   "codemirror_mode": {
    "name": "ipython",
    "version": 3
   },
   "file_extension": ".py",
   "mimetype": "text/x-python",
   "name": "python",
   "nbconvert_exporter": "python",
   "pygments_lexer": "ipython3",
   "version": "3.9.7"
  }
 },
 "nbformat": 4,
 "nbformat_minor": 5
}
